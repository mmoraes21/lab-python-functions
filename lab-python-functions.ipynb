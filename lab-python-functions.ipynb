{
 "cells": [
  {
   "cell_type": "markdown",
   "id": "25d7736c-ba17-4aff-b6bb-66eba20fbf4e",
   "metadata": {},
   "source": [
    "# Lab | Functions"
   ]
  },
  {
   "cell_type": "markdown",
   "id": "0c581062-8967-4d93-b06e-62833222f930",
   "metadata": {
    "tags": []
   },
   "source": [
    "## Exercise: Managing Customer Orders with Functions\n",
    "\n",
    "In the previous exercise, you improved the code for managing customer orders by using loops and flow control. Now, let's take it a step further and refactor the code by introducing functions.\n",
    "\n",
    "Follow the steps below to complete the exercise:\n",
    "\n",
    "1. Define a function named `initialize_inventory` that takes `products` as a parameter. Inside the function, implement the code for initializing the inventory dictionary using a loop and user input.\n",
    "\n",
    "2. Define a function named `get_customer_orders` that takes no parameters. Inside the function, implement the code for prompting the user to enter the product names using a loop. The function should return the `customer_orders` set.\n",
    "\n",
    "3. Define a function named `update_inventory` that takes `customer_orders` and `inventory` as parameters. Inside the function, implement the code for updating the inventory dictionary based on the customer orders.\n",
    "\n",
    "4. Define a function named `calculate_order_statistics` that takes `customer_orders` and `products` as parameters. Inside the function, implement the code for calculating the order statistics (total products ordered, and percentage of unique products ordered). The function should return these values.\n",
    "\n",
    "5. Define a function named `print_order_statistics` that takes `order_statistics` as a parameter. Inside the function, implement the code for printing the order statistics.\n",
    "\n",
    "6. Define a function named `print_updated_inventory` that takes `inventory` as a parameter. Inside the function, implement the code for printing the updated inventory.\n",
    "\n",
    "7. Call the functions in the appropriate sequence to execute the program and manage customer orders.\n",
    "\n",
    "Hints for functions:\n",
    "\n",
    "- Consider the input parameters required for each function and their return values.\n",
    "- Utilize function parameters and return values to transfer data between functions.\n",
    "- Test your functions individually to ensure they work correctly.\n",
    "\n",
    "\n"
   ]
  },
  {
   "cell_type": "code",
   "execution_count": 34,
   "id": "69b5c987",
   "metadata": {},
   "outputs": [],
   "source": [
    "products = [\"t-shirt\", \"mug\", \"hat\", \"book\", \"keychain\"]"
   ]
  },
  {
   "cell_type": "code",
   "execution_count": 35,
   "id": "a2371f6b",
   "metadata": {},
   "outputs": [],
   "source": [
    "def initialize_inventory(products):\n",
    "    inventory = {}\n",
    "    for product in products:\n",
    "        amount = int(input(f\"amount of {product}\"))\n",
    "        inventory[product] = amount\n",
    "    return inventory"
   ]
  },
  {
   "cell_type": "code",
   "execution_count": 36,
   "id": "f57c901c",
   "metadata": {},
   "outputs": [
    {
     "name": "stdout",
     "output_type": "stream",
     "text": [
      "Initialized Inventory:\n",
      "t-shirt:10\n",
      "mug:10\n",
      "hat:10\n",
      "book:10\n",
      "keychain:10\n"
     ]
    }
   ],
   "source": [
    "inventory = initialize_inventory(products)\n",
    "print(\"Initialized Inventory:\")\n",
    "for product,amount in inventory.items():\n",
    "    print(f\"{product}:{amount}\")"
   ]
  },
  {
   "cell_type": "code",
   "execution_count": 37,
   "id": "1da56d65",
   "metadata": {},
   "outputs": [],
   "source": [
    "def get_customer_orders():\n",
    "    customer_orders = set()\n",
    "    while True:\n",
    "        product = input(\"type product name or type finish \")\n",
    "        if product == \"finish\":\n",
    "            break\n",
    "        customer_orders.add(product)\n",
    "    return customer_orders"
   ]
  },
  {
   "cell_type": "code",
   "execution_count": 38,
   "id": "e99c3c47",
   "metadata": {},
   "outputs": [
    {
     "name": "stdout",
     "output_type": "stream",
     "text": [
      "{'keychain', 'hat', 'mug'}\n"
     ]
    }
   ],
   "source": [
    "customer_orders = get_customer_orders()\n",
    "print(customer_orders)"
   ]
  },
  {
   "cell_type": "code",
   "execution_count": 39,
   "id": "bd903453",
   "metadata": {},
   "outputs": [],
   "source": [
    "def update_inventory(customer_orders, inventory):\n",
    "    for product in customer_orders:\n",
    "        if product in inventory:\n",
    "            amount = int(input(f\"amount of {product}: \"))\n",
    "            inventory[product] -= amount"
   ]
  },
  {
   "cell_type": "code",
   "execution_count": 40,
   "id": "4ae64026",
   "metadata": {},
   "outputs": [],
   "source": [
    "update_inventory(customer_orders, inventory)"
   ]
  },
  {
   "cell_type": "code",
   "execution_count": 41,
   "id": "f3cc32e1",
   "metadata": {},
   "outputs": [
    {
     "name": "stdout",
     "output_type": "stream",
     "text": [
      "{'t-shirt': 10, 'mug': 8, 'hat': 8, 'book': 10, 'keychain': 8}\n"
     ]
    }
   ],
   "source": [
    "print(inventory)"
   ]
  },
  {
   "cell_type": "code",
   "execution_count": 43,
   "id": "06e35d1e",
   "metadata": {},
   "outputs": [],
   "source": [
    "COAmount = len(customer_orders)\n",
    "Percinvent = (len(customer_orders)/sum(inventory.values()))*100\n",
    "\n",
    "def calculate_order_statistics(customer_orders, products):\n",
    "    print(\"Order Statistics:\")\n",
    "    print(\"Total Products Ordered: \", COAmount) \n",
    "    print(\"Percentage of Products Ordered: \", Percinvent,\"%\") "
   ]
  },
  {
   "cell_type": "code",
   "execution_count": 45,
   "id": "36fd2572",
   "metadata": {},
   "outputs": [
    {
     "name": "stdout",
     "output_type": "stream",
     "text": [
      "Order Statistics:\n",
      "Total Products Ordered:  3\n",
      "Percentage of Products Ordered:  6.8181818181818175 %\n"
     ]
    }
   ],
   "source": [
    "calculate_order_statistics(customer_orders, products)"
   ]
  },
  {
   "cell_type": "code",
   "execution_count": 52,
   "id": "d7b630b9",
   "metadata": {},
   "outputs": [],
   "source": [
    "def print_updated_inventory(x):\n",
    "    print(x)"
   ]
  },
  {
   "cell_type": "code",
   "execution_count": 47,
   "id": "0a5004cf",
   "metadata": {},
   "outputs": [
    {
     "name": "stdout",
     "output_type": "stream",
     "text": [
      "{'t-shirt': 10, 'mug': 8, 'hat': 8, 'book': 10, 'keychain': 8}\n"
     ]
    }
   ],
   "source": [
    "print_updated_inventory(inventory)"
   ]
  },
  {
   "cell_type": "code",
   "execution_count": 48,
   "id": "2f2e8186",
   "metadata": {},
   "outputs": [
    {
     "name": "stdout",
     "output_type": "stream",
     "text": [
      "Order Statistics:\n",
      "Total Products Ordered:  3\n",
      "Percentage of Products Ordered:  6.8181818181818175 %\n",
      "{'t-shirt': 10, 'mug': 7, 'hat': 7, 'book': 10, 'keychain': 7}\n"
     ]
    }
   ],
   "source": [
    "initialize_inventory(products)\n",
    "get_customer_orders()\n",
    "update_inventory(customer_orders, inventory)\n",
    "calculate_order_statistics(customer_orders, products)\n",
    "print_updated_inventory(inventory)"
   ]
  },
  {
   "cell_type": "code",
   "execution_count": 57,
   "id": "12a3d018",
   "metadata": {},
   "outputs": [],
   "source": [
    "def final(x):\n",
    "    y = initialize_inventory(x)\n",
    "    z = get_customer_orders()\n",
    "    r = update_inventory(z, y)\n",
    "    t = calculate_order_statistics(z, x)\n",
    "    u = print_updated_inventory(y)\n"
   ]
  },
  {
   "cell_type": "code",
   "execution_count": 58,
   "id": "4479b3bc",
   "metadata": {},
   "outputs": [
    {
     "name": "stdout",
     "output_type": "stream",
     "text": [
      "Order Statistics:\n",
      "Total Products Ordered:  3\n",
      "Percentage of Products Ordered:  6.8181818181818175 %\n",
      "{'t-shirt': 5, 'mug': 4, 'hat': 4, 'book': 5, 'keychain': 5}\n"
     ]
    }
   ],
   "source": [
    "final(products)"
   ]
  }
 ],
 "metadata": {
  "kernelspec": {
   "display_name": "Python 3 (ipykernel)",
   "language": "python",
   "name": "python3"
  },
  "language_info": {
   "codemirror_mode": {
    "name": "ipython",
    "version": 3
   },
   "file_extension": ".py",
   "mimetype": "text/x-python",
   "name": "python",
   "nbconvert_exporter": "python",
   "pygments_lexer": "ipython3",
   "version": "3.11.4"
  }
 },
 "nbformat": 4,
 "nbformat_minor": 5
}
